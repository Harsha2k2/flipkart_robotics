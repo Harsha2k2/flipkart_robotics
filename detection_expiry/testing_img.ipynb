{
 "cells": [
  {
   "cell_type": "code",
   "execution_count": null,
   "metadata": {
    "vscode": {
     "languageId": "plaintext"
    }
   },
   "outputs": [],
   "source": [
    "from tensorflow.keras.applications import VGG16\n",
    "from tensorflow.keras.layers import Flatten\n",
    "from tensorflow.keras.layers import Dense\n",
    "from tensorflow.keras.layers import Input\n",
    "from tensorflow.keras.models import Model\n",
    "from tensorflow.keras.optimizers import Adam\n",
    "from tensorflow.keras.preprocessing.image import img_to_array\n",
    "from tensorflow.keras.preprocessing.image import load_img\n",
    "from tensorflow.keras.layers import Dropout\n",
    "from sklearn.model_selection import train_test_split\n",
    "import matplotlib.pyplot as plt\n",
    "import numpy as np\n",
    "import cv2\n",
    "import os\n",
    "import json"
   ]
  },
  {
   "cell_type": "code",
   "execution_count": null,
   "metadata": {
    "vscode": {
     "languageId": "plaintext"
    }
   },
   "outputs": [],
   "source": [
    "from google.colab import drive\n",
    "drive.mount('/content/drive')"
   ]
  },
  {
   "cell_type": "code",
   "execution_count": null,
   "metadata": {
    "vscode": {
     "languageId": "plaintext"
    }
   },
   "outputs": [],
   "source": [
    "# os.mkdir(\"/content/output\")"
   ]
  },
  {
   "cell_type": "code",
   "execution_count": null,
   "metadata": {
    "vscode": {
     "languageId": "plaintext"
    }
   },
   "outputs": [],
   "source": [
    "# define the base path to the input dataset and then use it to derive\n",
    "# the path to the images directory and annotation CSV file\n",
    "BASE_PATH = \"/content/drive/MyDrive/ML_Project/Data/BoundingBoxTraining\"\n",
    "IMAGES_PATH = os.path.sep.join([BASE_PATH, \"images\"])\n",
    "ANNOTS_PATH = os.path.sep.join([BASE_PATH, \"annotations.json\"])\n",
    "\n",
    "# define the path to the base output directory\n",
    "BASE_OUTPUT = \"/content/drive/MyDrive/ml_project_gt\"\n",
    "# define the path to the output serialized model, model training plot,\n",
    "# and testing image filenames\n",
    "MODEL_PATH = os.path.sep.join([BASE_OUTPUT, \"detector.h5\"])\n",
    "# PLOT_PATH = os.path.sep.join([BASE_OUTPUT, \"plot.png\"])\n",
    "TEST_FILENAMES = os.path.sep.join([BASE_OUTPUT, \"test_images.txt\"])\n",
    "\n",
    "# initialize our initial learning rate, number of epochs to train\n",
    "# for, and the batch size\n",
    "# INIT_LR = 4e-4\n",
    "# NUM_EPOCHS = 30\n",
    "# BATCH_SIZE = 16"
   ]
  },
  {
   "cell_type": "code",
   "execution_count": null,
   "metadata": {
    "vscode": {
     "languageId": "plaintext"
    }
   },
   "outputs": [],
   "source": [
    "from tensorflow.keras.preprocessing.image import img_to_array\n",
    "from tensorflow.keras.preprocessing.image import load_img\n",
    "from tensorflow.keras.models import load_model\n",
    "import numpy as np\n",
    "import mimetypes\n",
    "import argparse\n",
    "import imutils\n",
    "import cv2\n",
    "import os"
   ]
  },
  {
   "cell_type": "code",
   "execution_count": null,
   "metadata": {
    "vscode": {
     "languageId": "plaintext"
    }
   },
   "outputs": [],
   "source": [
    "['/content/drive/MyDrive/ML_Project/Data/BoundingBoxTraining/images/img_00676.jpg']"
   ]
  },
  {
   "cell_type": "code",
   "execution_count": null,
   "metadata": {
    "vscode": {
     "languageId": "plaintext"
    }
   },
   "outputs": [],
   "source": [
    "# test_image = '/content/drive/MyDrive/ML_Project/Data/BoundingBoxTraining/images/img_00010.jpg'\n",
    "test_image = '/content/output/test_images.txt'"
   ]
  },
  {
   "cell_type": "code",
   "execution_count": null,
   "metadata": {
    "vscode": {
     "languageId": "plaintext"
    }
   },
   "outputs": [],
   "source": [
    "imagePaths = \"/content/drive/MyDrive/ml_project_gt/outputfiles/\""
   ]
  },
  {
   "cell_type": "code",
   "execution_count": null,
   "metadata": {
    "vscode": {
     "languageId": "plaintext"
    }
   },
   "outputs": [],
   "source": [
    "pip install easyocr"
   ]
  },
  {
   "cell_type": "code",
   "execution_count": null,
   "metadata": {
    "vscode": {
     "languageId": "plaintext"
    }
   },
   "outputs": [],
   "source": [
    "from google.colab.patches import cv2_imshow\n",
    "import easyocr"
   ]
  },
  {
   "cell_type": "code",
   "execution_count": null,
   "metadata": {
    "vscode": {
     "languageId": "plaintext"
    }
   },
   "outputs": [],
   "source": [
    "p = ['img_00732','img_00956','img_01016','img_01060']"
   ]
  },
  {
   "cell_type": "code",
   "execution_count": null,
   "metadata": {
    "vscode": {
     "languageId": "plaintext"
    }
   },
   "outputs": [],
   "source": [
    "reader = easyocr.Reader(['en'], gpu=False)"
   ]
  },
  {
   "cell_type": "code",
   "execution_count": null,
   "metadata": {
    "vscode": {
     "languageId": "plaintext"
    }
   },
   "outputs": [],
   "source": [
    "print(\"[INFO] loading object detector...\")\n",
    "model = load_model(MODEL_PATH)\n",
    "# loop over the images that we'll be testing using our bounding box\n",
    "# regression model\n",
    "for i in p:\n",
    "\t# load the input image (in Keras format) from disk and preprocess\n",
    "\t# it, scaling the pixel intensities to the range [0, 1\n",
    "  # print(imagePaths+str(i))\n",
    "  image = cv2.imread(imagePaths+str(i)+ \".jpg\")\n",
    "  (h, w) = image.shape[:2]\n",
    "  # image = cv2.cvtColor(image, cv2.COLOR_BGR2GRAY)\n",
    "  image = cv2.resize(image,(224, 224))\n",
    "  # image = cv2.erode(image, None, iterations=1)\n",
    "  image = img_to_array(image) / 255.0\n",
    "  image = np.expand_dims(image, axis=0)\n",
    "  # make bounding box predictions on the input image\n",
    "  preds = model.predict(image)[0]\n",
    "  (startX, startY, endX, endY) = preds\n",
    "  # load the input image (in OpenCV format), resize it such that it\n",
    "  # fits on our screen, and grab its dimensions\n",
    "  image = cv2.imread(imagePaths+str(i)+ \".jpg\")\n",
    "  image = imutils.resize(image, width=600)\n",
    "  (h, w) = image.shape[:2]\n",
    "  # scale the predicted bounding box coordinates based on the image\n",
    "  # dimensions\n",
    "  startX = int(startX * w)\n",
    "  startY = int(startY * h)\n",
    "  endX = int(endX * w)\n",
    "    endY = int(endY * h)\n",
    "  # show the output image\n",
    "  print(\"This is the orginal Image :\")\n",
    "  cv2_imshow(image)\n",
    "  # show the output image\n",
    "  bb = image[startY-10:endY+10, startX-10: endX+10]\n",
    "  # cv2.imwrite('/content/output/test.png', bb)  \n",
    "  print(\"The detected bounding box of the image :\")\n",
    "  cv2_imshow(bb)\n",
    "  result = reader.readtext(bb)\n",
    "  print(\"The text inside the bounding box is :\")\n",
    "  print(result[0][1])"
   ]
  }
 ],
 "metadata": {
  "language_info": {
   "name": "python"
  }
 },
 "nbformat": 4,
 "nbformat_minor": 2
}
